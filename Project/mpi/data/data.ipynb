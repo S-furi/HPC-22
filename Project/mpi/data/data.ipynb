{
 "cells": [
  {
   "cell_type": "code",
   "execution_count": 5,
   "metadata": {},
   "outputs": [],
   "source": [
    "import pandas as pd\n",
    "import numpy as np\n",
    "import matplotlib.pyplot as plt\n",
    "import subprocess"
   ]
  },
  {
   "cell_type": "code",
   "execution_count": 13,
   "metadata": {},
   "outputs": [],
   "source": [
    "def run_mpi_program(num_process):\n",
    "    command = f\"mpirun -n {num_process} ./mpi-sph 5000\"\n",
    "    process = subprocess.Popen(command, shell=True, stdout=subprocess.PIPE,stderr=subprocess.PIPE)\n",
    "    stdout, stderr = process.communicate()\n",
    "    return stdout.decode(), stderr.decode()"
   ]
  },
  {
   "cell_type": "code",
   "execution_count": 30,
   "metadata": {},
   "outputs": [],
   "source": [
    "def get_run_times(num_process) -> float:\n",
    "    output, err = run_mpi_program(num_process)\n",
    "    # excel will not interpret results with dots but commmas...\n",
    "    return float(output.split(\"Elapsed time: \")[1].replace(\"\\n\", \"\"))\n"
   ]
  },
  {
   "cell_type": "code",
   "execution_count": 31,
   "metadata": {},
   "outputs": [
    {
     "data": {
      "text/plain": [
       "{1: [8.258143, 8.266739, 8.245242, 8.237408, 8.248859],\n",
       " 2: [4.223303, 4.184638, 4.213464, 4.213036, 4.20909],\n",
       " 3: [2.866285, 2.871348, 2.864738, 2.862616, 2.860187],\n",
       " 4: [2.162676, 2.162224, 2.163077, 2.163848, 2.162983],\n",
       " 5: [1.738459, 1.745159, 1.738619, 1.739115, 1.740443],\n",
       " 6: [1.453537, 1.457018, 1.456192, 1.457846, 1.456696],\n",
       " 7: [1.26358, 1.257035, 1.269647, 1.255035, 1.2562],\n",
       " 8: [1.124065, 1.128179, 1.123596, 1.12973, 1.130181],\n",
       " 9: [1.719989, 1.763072, 1.716857, 1.751169, 1.760749]}"
      ]
     },
     "execution_count": 31,
     "metadata": {},
     "output_type": "execute_result"
    }
   ],
   "source": [
    "results = { proc:[get_run_times(proc) for i in range(1, 6)] for proc in range(1, 10) } \n",
    "results\n"
   ]
  },
  {
   "cell_type": "code",
   "execution_count": 34,
   "metadata": {},
   "outputs": [],
   "source": [
    "df = pd.DataFrame(results)\n",
    "df = df.T\n",
    "df.dtypes\n",
    "\n",
    "df.to_excel(\"mpi_runs.xlsx\")"
   ]
  }
 ],
 "metadata": {
  "kernelspec": {
   "display_name": "Python 3",
   "language": "python",
   "name": "python3"
  },
  "language_info": {
   "codemirror_mode": {
    "name": "ipython",
    "version": 3
   },
   "file_extension": ".py",
   "mimetype": "text/x-python",
   "name": "python",
   "nbconvert_exporter": "python",
   "pygments_lexer": "ipython3",
   "version": "3.9.13"
  },
  "orig_nbformat": 4,
  "vscode": {
   "interpreter": {
    "hash": "38cca0c38332a56087b24af0bc80247f4fced29cb4f7f437d91dc159adec9c4e"
   }
  }
 },
 "nbformat": 4,
 "nbformat_minor": 2
}
